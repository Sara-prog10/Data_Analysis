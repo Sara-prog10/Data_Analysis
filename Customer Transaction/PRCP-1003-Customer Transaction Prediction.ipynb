{
 "cells": [
  {
   "cell_type": "markdown",
   "id": "320bbcbf",
   "metadata": {},
   "source": [
    "## Importing necessary libraries"
   ]
  },
  {
   "cell_type": "code",
   "execution_count": 1,
   "id": "ff37f165",
   "metadata": {},
   "outputs": [],
   "source": [
    "import pandas as pd\n",
    "from sklearn.model_selection import train_test_split\n",
    "from sklearn.linear_model import LogisticRegression\n",
    "from sklearn.tree import DecisionTreeClassifier\n",
    "from sklearn.preprocessing import StandardScaler\n",
    "from sklearn.metrics import accuracy_score, classification_report, confusion_matrix\n",
    "import warnings\n",
    "from sklearn.exceptions import ConvergenceWarning"
   ]
  },
  {
   "cell_type": "code",
   "execution_count": 2,
   "id": "0866cf8b",
   "metadata": {},
   "outputs": [],
   "source": [
    "warnings.filterwarnings(\"ignore\", category=ConvergenceWarning)"
   ]
  },
  {
   "cell_type": "markdown",
   "id": "3317bb5b",
   "metadata": {},
   "source": [
    "## Loading the dataset"
   ]
  },
  {
   "cell_type": "code",
   "execution_count": 3,
   "id": "1a72e9aa",
   "metadata": {},
   "outputs": [
    {
     "data": {
      "text/html": [
       "<div>\n",
       "<style scoped>\n",
       "    .dataframe tbody tr th:only-of-type {\n",
       "        vertical-align: middle;\n",
       "    }\n",
       "\n",
       "    .dataframe tbody tr th {\n",
       "        vertical-align: top;\n",
       "    }\n",
       "\n",
       "    .dataframe thead th {\n",
       "        text-align: right;\n",
       "    }\n",
       "</style>\n",
       "<table border=\"1\" class=\"dataframe\">\n",
       "  <thead>\n",
       "    <tr style=\"text-align: right;\">\n",
       "      <th></th>\n",
       "      <th>ID_code</th>\n",
       "      <th>target</th>\n",
       "      <th>var_0</th>\n",
       "      <th>var_1</th>\n",
       "      <th>var_2</th>\n",
       "      <th>var_3</th>\n",
       "      <th>var_4</th>\n",
       "      <th>var_5</th>\n",
       "      <th>var_6</th>\n",
       "      <th>var_7</th>\n",
       "      <th>...</th>\n",
       "      <th>var_190</th>\n",
       "      <th>var_191</th>\n",
       "      <th>var_192</th>\n",
       "      <th>var_193</th>\n",
       "      <th>var_194</th>\n",
       "      <th>var_195</th>\n",
       "      <th>var_196</th>\n",
       "      <th>var_197</th>\n",
       "      <th>var_198</th>\n",
       "      <th>var_199</th>\n",
       "    </tr>\n",
       "  </thead>\n",
       "  <tbody>\n",
       "    <tr>\n",
       "      <th>0</th>\n",
       "      <td>train_0</td>\n",
       "      <td>0</td>\n",
       "      <td>8.9255</td>\n",
       "      <td>-6.7863</td>\n",
       "      <td>11.9081</td>\n",
       "      <td>5.0930</td>\n",
       "      <td>11.4607</td>\n",
       "      <td>-9.2834</td>\n",
       "      <td>5.1187</td>\n",
       "      <td>18.6266</td>\n",
       "      <td>...</td>\n",
       "      <td>4.4354</td>\n",
       "      <td>3.9642</td>\n",
       "      <td>3.1364</td>\n",
       "      <td>1.6910</td>\n",
       "      <td>18.5227</td>\n",
       "      <td>-2.3978</td>\n",
       "      <td>7.8784</td>\n",
       "      <td>8.5635</td>\n",
       "      <td>12.7803</td>\n",
       "      <td>-1.0914</td>\n",
       "    </tr>\n",
       "    <tr>\n",
       "      <th>1</th>\n",
       "      <td>train_1</td>\n",
       "      <td>0</td>\n",
       "      <td>11.5006</td>\n",
       "      <td>-4.1473</td>\n",
       "      <td>13.8588</td>\n",
       "      <td>5.3890</td>\n",
       "      <td>12.3622</td>\n",
       "      <td>7.0433</td>\n",
       "      <td>5.6208</td>\n",
       "      <td>16.5338</td>\n",
       "      <td>...</td>\n",
       "      <td>7.6421</td>\n",
       "      <td>7.7214</td>\n",
       "      <td>2.5837</td>\n",
       "      <td>10.9516</td>\n",
       "      <td>15.4305</td>\n",
       "      <td>2.0339</td>\n",
       "      <td>8.1267</td>\n",
       "      <td>8.7889</td>\n",
       "      <td>18.3560</td>\n",
       "      <td>1.9518</td>\n",
       "    </tr>\n",
       "    <tr>\n",
       "      <th>2</th>\n",
       "      <td>train_2</td>\n",
       "      <td>0</td>\n",
       "      <td>8.6093</td>\n",
       "      <td>-2.7457</td>\n",
       "      <td>12.0805</td>\n",
       "      <td>7.8928</td>\n",
       "      <td>10.5825</td>\n",
       "      <td>-9.0837</td>\n",
       "      <td>6.9427</td>\n",
       "      <td>14.6155</td>\n",
       "      <td>...</td>\n",
       "      <td>2.9057</td>\n",
       "      <td>9.7905</td>\n",
       "      <td>1.6704</td>\n",
       "      <td>1.6858</td>\n",
       "      <td>21.6042</td>\n",
       "      <td>3.1417</td>\n",
       "      <td>-6.5213</td>\n",
       "      <td>8.2675</td>\n",
       "      <td>14.7222</td>\n",
       "      <td>0.3965</td>\n",
       "    </tr>\n",
       "    <tr>\n",
       "      <th>3</th>\n",
       "      <td>train_3</td>\n",
       "      <td>0</td>\n",
       "      <td>11.0604</td>\n",
       "      <td>-2.1518</td>\n",
       "      <td>8.9522</td>\n",
       "      <td>7.1957</td>\n",
       "      <td>12.5846</td>\n",
       "      <td>-1.8361</td>\n",
       "      <td>5.8428</td>\n",
       "      <td>14.9250</td>\n",
       "      <td>...</td>\n",
       "      <td>4.4666</td>\n",
       "      <td>4.7433</td>\n",
       "      <td>0.7178</td>\n",
       "      <td>1.4214</td>\n",
       "      <td>23.0347</td>\n",
       "      <td>-1.2706</td>\n",
       "      <td>-2.9275</td>\n",
       "      <td>10.2922</td>\n",
       "      <td>17.9697</td>\n",
       "      <td>-8.9996</td>\n",
       "    </tr>\n",
       "    <tr>\n",
       "      <th>4</th>\n",
       "      <td>train_4</td>\n",
       "      <td>0</td>\n",
       "      <td>9.8369</td>\n",
       "      <td>-1.4834</td>\n",
       "      <td>12.8746</td>\n",
       "      <td>6.6375</td>\n",
       "      <td>12.2772</td>\n",
       "      <td>2.4486</td>\n",
       "      <td>5.9405</td>\n",
       "      <td>19.2514</td>\n",
       "      <td>...</td>\n",
       "      <td>-1.4905</td>\n",
       "      <td>9.5214</td>\n",
       "      <td>-0.1508</td>\n",
       "      <td>9.1942</td>\n",
       "      <td>13.2876</td>\n",
       "      <td>-1.5121</td>\n",
       "      <td>3.9267</td>\n",
       "      <td>9.5031</td>\n",
       "      <td>17.9974</td>\n",
       "      <td>-8.8104</td>\n",
       "    </tr>\n",
       "  </tbody>\n",
       "</table>\n",
       "<p>5 rows × 202 columns</p>\n",
       "</div>"
      ],
      "text/plain": [
       "   ID_code  target    var_0   var_1    var_2   var_3    var_4   var_5   var_6  \\\n",
       "0  train_0       0   8.9255 -6.7863  11.9081  5.0930  11.4607 -9.2834  5.1187   \n",
       "1  train_1       0  11.5006 -4.1473  13.8588  5.3890  12.3622  7.0433  5.6208   \n",
       "2  train_2       0   8.6093 -2.7457  12.0805  7.8928  10.5825 -9.0837  6.9427   \n",
       "3  train_3       0  11.0604 -2.1518   8.9522  7.1957  12.5846 -1.8361  5.8428   \n",
       "4  train_4       0   9.8369 -1.4834  12.8746  6.6375  12.2772  2.4486  5.9405   \n",
       "\n",
       "     var_7  ...  var_190  var_191  var_192  var_193  var_194  var_195  \\\n",
       "0  18.6266  ...   4.4354   3.9642   3.1364   1.6910  18.5227  -2.3978   \n",
       "1  16.5338  ...   7.6421   7.7214   2.5837  10.9516  15.4305   2.0339   \n",
       "2  14.6155  ...   2.9057   9.7905   1.6704   1.6858  21.6042   3.1417   \n",
       "3  14.9250  ...   4.4666   4.7433   0.7178   1.4214  23.0347  -1.2706   \n",
       "4  19.2514  ...  -1.4905   9.5214  -0.1508   9.1942  13.2876  -1.5121   \n",
       "\n",
       "   var_196  var_197  var_198  var_199  \n",
       "0   7.8784   8.5635  12.7803  -1.0914  \n",
       "1   8.1267   8.7889  18.3560   1.9518  \n",
       "2  -6.5213   8.2675  14.7222   0.3965  \n",
       "3  -2.9275  10.2922  17.9697  -8.9996  \n",
       "4   3.9267   9.5031  17.9974  -8.8104  \n",
       "\n",
       "[5 rows x 202 columns]"
      ]
     },
     "execution_count": 3,
     "metadata": {},
     "output_type": "execute_result"
    }
   ],
   "source": [
    "data = pd.read_csv(\"train.csv\")\n",
    "data.head()"
   ]
  },
  {
   "cell_type": "markdown",
   "id": "05dc989e",
   "metadata": {},
   "source": [
    "## Splitting the dataset into features (X) and target (y)"
   ]
  },
  {
   "cell_type": "code",
   "execution_count": 4,
   "id": "e8ca8e66",
   "metadata": {},
   "outputs": [],
   "source": [
    "X = data.drop(['ID_code', 'target'], axis=1)\n",
    "y = data['target']"
   ]
  },
  {
   "cell_type": "markdown",
   "id": "e883ae01",
   "metadata": {},
   "source": [
    "## Splitting the data into training and testing sets"
   ]
  },
  {
   "cell_type": "code",
   "execution_count": 5,
   "id": "217709f1",
   "metadata": {},
   "outputs": [],
   "source": [
    "X_train, X_test, y_train, y_test = train_test_split(X, y, test_size=0.2, random_state=42)"
   ]
  },
  {
   "cell_type": "markdown",
   "id": "ed164738",
   "metadata": {},
   "source": [
    "## Logistic Regression Model (Increased Max Iterations)"
   ]
  },
  {
   "cell_type": "code",
   "execution_count": 6,
   "id": "3e719706",
   "metadata": {},
   "outputs": [],
   "source": [
    "logreg_model = LogisticRegression(max_iter=1000)\n",
    "logreg_model.fit(X_train, y_train)\n",
    "logreg_predictions = logreg_model.predict(X_test)"
   ]
  },
  {
   "cell_type": "markdown",
   "id": "81f93f98",
   "metadata": {},
   "source": [
    "## Scaling Features and Logistic Regression Model"
   ]
  },
  {
   "cell_type": "code",
   "execution_count": 7,
   "id": "932648fe",
   "metadata": {},
   "outputs": [],
   "source": [
    "scaler = StandardScaler()\n",
    "X_train_scaled = scaler.fit_transform(X_train)\n",
    "X_test_scaled = scaler.transform(X_test)"
   ]
  },
  {
   "cell_type": "code",
   "execution_count": 8,
   "id": "bae52073",
   "metadata": {},
   "outputs": [],
   "source": [
    "logreg_model_scaled = LogisticRegression(solver='liblinear')\n",
    "logreg_model_scaled.fit(X_train_scaled, y_train)\n",
    "logreg_predictions_scaled = logreg_model_scaled.predict(X_test_scaled)"
   ]
  },
  {
   "cell_type": "markdown",
   "id": "19de366a",
   "metadata": {},
   "source": [
    "## Decision Tree Model"
   ]
  },
  {
   "cell_type": "code",
   "execution_count": 9,
   "id": "9eec8d01",
   "metadata": {},
   "outputs": [],
   "source": [
    "dt_model = DecisionTreeClassifier()\n",
    "dt_model.fit(X_train, y_train)\n",
    "dt_predictions = dt_model.predict(X_test)"
   ]
  },
  {
   "cell_type": "markdown",
   "id": "325b3a58",
   "metadata": {},
   "source": [
    "## Logistic Regression Predictions with Probabilities"
   ]
  },
  {
   "cell_type": "code",
   "execution_count": 10,
   "id": "a5a8ed12",
   "metadata": {},
   "outputs": [],
   "source": [
    "logreg_probabilities = logreg_model.predict_proba(X_test)[:, 1]\n",
    "logreg_predictions_lr = pd.DataFrame({'Probability_LR': logreg_probabilities, 'Predicted_Class_LR': logreg_predictions})\n",
    "logreg_predictions_lr['Predicted_Transaction_LR'] = (logreg_predictions_lr['Predicted_Class_LR'] == 1).astype(int)"
   ]
  },
  {
   "cell_type": "markdown",
   "id": "e488dc4d",
   "metadata": {},
   "source": [
    "## Decision Tree Predictions with Probabilities"
   ]
  },
  {
   "cell_type": "code",
   "execution_count": 11,
   "id": "faffd6fb",
   "metadata": {},
   "outputs": [],
   "source": [
    "dt_probabilities = dt_model.predict_proba(X_test)[:, 1]\n",
    "dt_predictions_df = pd.DataFrame({'Probability_DT': dt_probabilities, 'Predicted_Class_DT': dt_predictions})\n",
    "dt_predictions_df['Predicted_Transaction_DT'] = (dt_predictions_df['Predicted_Class_DT'] == 1).astype(int)"
   ]
  },
  {
   "cell_type": "markdown",
   "id": "77147fb5",
   "metadata": {},
   "source": [
    "## Function to Evaluate Model Performance"
   ]
  },
  {
   "cell_type": "code",
   "execution_count": 12,
   "id": "efc03f1e",
   "metadata": {},
   "outputs": [],
   "source": [
    "def evaluate_model(model_name, y_true, y_pred):\n",
    "    accuracy = accuracy_score(y_true, y_pred)\n",
    "    conf_matrix = confusion_matrix(y_true, y_pred)\n",
    "    class_report = classification_report(y_true, y_pred)\n",
    "    \n",
    "    print(f'{model_name} Model:')\n",
    "    print(f'Accuracy: {accuracy:.4f}')\n",
    "    print(f'Confusion Matrix:\\n{conf_matrix}')\n",
    "    print(f'Classification Report:\\n{class_report}')\n",
    "    print('\\n')\n"
   ]
  },
  {
   "cell_type": "markdown",
   "id": "07c84a2d",
   "metadata": {},
   "source": [
    "## Evaluating Model Performance"
   ]
  },
  {
   "cell_type": "code",
   "execution_count": 13,
   "id": "8569976c",
   "metadata": {},
   "outputs": [
    {
     "name": "stdout",
     "output_type": "stream",
     "text": [
      "Logistic Regression (Increased Max Iter) Model:\n",
      "Accuracy: 0.9128\n",
      "Confusion Matrix:\n",
      "[[35424   479]\n",
      " [ 3010  1087]]\n",
      "Classification Report:\n",
      "              precision    recall  f1-score   support\n",
      "\n",
      "           0       0.92      0.99      0.95     35903\n",
      "           1       0.69      0.27      0.38      4097\n",
      "\n",
      "    accuracy                           0.91     40000\n",
      "   macro avg       0.81      0.63      0.67     40000\n",
      "weighted avg       0.90      0.91      0.89     40000\n",
      "\n",
      "\n",
      "\n",
      "Logistic Regression (Scaled Features) Model:\n",
      "Accuracy: 0.9131\n",
      "Confusion Matrix:\n",
      "[[35421   482]\n",
      " [ 2994  1103]]\n",
      "Classification Report:\n",
      "              precision    recall  f1-score   support\n",
      "\n",
      "           0       0.92      0.99      0.95     35903\n",
      "           1       0.70      0.27      0.39      4097\n",
      "\n",
      "    accuracy                           0.91     40000\n",
      "   macro avg       0.81      0.63      0.67     40000\n",
      "weighted avg       0.90      0.91      0.90     40000\n",
      "\n",
      "\n",
      "\n",
      "Decision Tree Model:\n",
      "Accuracy: 0.8357\n",
      "Confusion Matrix:\n",
      "[[32542  3361]\n",
      " [ 3213   884]]\n",
      "Classification Report:\n",
      "              precision    recall  f1-score   support\n",
      "\n",
      "           0       0.91      0.91      0.91     35903\n",
      "           1       0.21      0.22      0.21      4097\n",
      "\n",
      "    accuracy                           0.84     40000\n",
      "   macro avg       0.56      0.56      0.56     40000\n",
      "weighted avg       0.84      0.84      0.84     40000\n",
      "\n",
      "\n",
      "\n"
     ]
    }
   ],
   "source": [
    "evaluate_model('Logistic Regression (Increased Max Iter)', y_test, logreg_predictions)\n",
    "evaluate_model('Logistic Regression (Scaled Features)', y_test, logreg_predictions_scaled)\n",
    "evaluate_model('Decision Tree', y_test, dt_predictions)"
   ]
  },
  {
   "cell_type": "markdown",
   "id": "38b96de8",
   "metadata": {},
   "source": [
    "## Displaying Predictions from Decision Tree"
   ]
  },
  {
   "cell_type": "code",
   "execution_count": 14,
   "id": "8fea5ce5",
   "metadata": {},
   "outputs": [
    {
     "name": "stdout",
     "output_type": "stream",
     "text": [
      "\n",
      "Identifying customers who will make transactions using Decision Tree:\n",
      "       Probability_DT  Predicted_Class_DT  Predicted_Transaction_DT\n",
      "0                 0.0                   0                         0\n",
      "1                 0.0                   0                         0\n",
      "2                 0.0                   0                         0\n",
      "3                 0.0                   0                         0\n",
      "4                 0.0                   0                         0\n",
      "...               ...                 ...                       ...\n",
      "39995             1.0                   1                         1\n",
      "39996             0.0                   0                         0\n",
      "39997             0.0                   0                         0\n",
      "39998             0.0                   0                         0\n",
      "39999             0.0                   0                         0\n",
      "\n",
      "[40000 rows x 3 columns]\n"
     ]
    }
   ],
   "source": [
    "print('\\nIdentifying customers who will make transactions using Decision Tree:')\n",
    "print(dt_predictions_df[['Probability_DT', 'Predicted_Class_DT', 'Predicted_Transaction_DT']])"
   ]
  },
  {
   "cell_type": "markdown",
   "id": "8b0be285",
   "metadata": {},
   "source": [
    "## Displaying Predictions from Logistic Regression"
   ]
  },
  {
   "cell_type": "code",
   "execution_count": 15,
   "id": "9f256c78",
   "metadata": {},
   "outputs": [
    {
     "name": "stdout",
     "output_type": "stream",
     "text": [
      "Identifying customers who will make transactions using Logistic Regression:\n",
      "       Probability_LR  Predicted_Class_LR  Predicted_Transaction_LR\n",
      "0            0.000654                   0                         0\n",
      "1            0.005314                   0                         0\n",
      "2            0.005321                   0                         0\n",
      "3            0.069893                   0                         0\n",
      "4            0.331407                   0                         0\n",
      "...               ...                 ...                       ...\n",
      "39995        0.040395                   0                         0\n",
      "39996        0.009847                   0                         0\n",
      "39997        0.257032                   0                         0\n",
      "39998        0.400005                   0                         0\n",
      "39999        0.012050                   0                         0\n",
      "\n",
      "[40000 rows x 3 columns]\n"
     ]
    }
   ],
   "source": [
    "print('Identifying customers who will make transactions using Logistic Regression:')\n",
    "print(logreg_predictions_lr[['Probability_LR', 'Predicted_Class_LR', 'Predicted_Transaction_LR']])"
   ]
  },
  {
   "cell_type": "code",
   "execution_count": null,
   "id": "74045a36",
   "metadata": {},
   "outputs": [],
   "source": []
  },
  {
   "cell_type": "code",
   "execution_count": null,
   "id": "4e35e291",
   "metadata": {},
   "outputs": [],
   "source": []
  }
 ],
 "metadata": {
  "kernelspec": {
   "display_name": "Python 3 (ipykernel)",
   "language": "python",
   "name": "python3"
  },
  "language_info": {
   "codemirror_mode": {
    "name": "ipython",
    "version": 3
   },
   "file_extension": ".py",
   "mimetype": "text/x-python",
   "name": "python",
   "nbconvert_exporter": "python",
   "pygments_lexer": "ipython3",
   "version": "3.11.5"
  }
 },
 "nbformat": 4,
 "nbformat_minor": 5
}
